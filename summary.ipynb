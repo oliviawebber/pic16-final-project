{
 "cells": [
  {
   "cell_type": "code",
   "execution_count": 51,
   "metadata": {},
   "outputs": [],
   "source": [
    "from sklearn.metrics import mean_squared_error\n",
    "from sklearn.model_selection import train_test_split\n",
    "from sklearn.ensemble import RandomForestRegressor\n",
    "import pandas as pd\n",
    "import numpy as np\n",
    "import matplotlib.pyplot as plt"
   ]
  },
  {
   "cell_type": "code",
   "execution_count": 52,
   "metadata": {},
   "outputs": [],
   "source": [
    "df=pd.read_csv('test_bat.csv', sep=',',header=0)"
   ]
  },
  {
   "cell_type": "markdown",
   "metadata": {},
   "source": [
    "[1985-2012 Salary Data](https://www3.nd.edu/~lawlib/baseball_salary_arbitration/minavgsalaries/Minimum-AverageSalaries.pdf)\n",
    "[2013-2019 Salary Data](https://www.statista.com/statistics/236213/mean-salaray-of-players-in-majpr-league-baseball/)"
   ]
  },
  {
   "cell_type": "markdown",
   "metadata": {},
   "source": [
    "From the yearly salary averages, we compute the rate of inflation from 1 year to the next."
   ]
  },
  {
   "cell_type": "code",
   "execution_count": 53,
   "metadata": {},
   "outputs": [],
   "source": [
    "avg_salary = [371571,412520,412454,438729,497254,597537,851492,1028667,1076089,\n",
    "              1168263,1110766,1119981,1336609,1398831,1611166,1895630,2138896,\n",
    "              2295649,2372189,2313535,2476589,2699292,2824751,2925679,2996106,\n",
    "              3014572,3095183,3210000,3390000,3690000,3840000,4380000,4470000,\n",
    "              4520000]\n",
    "\n",
    "inflation = (len(avg_salary)-1) * [0]\n",
    "for i in range(len(avg_salary)-1):\n",
    "    inflation[i] = float(avg_salary[i+1])/avg_salary[i]"
   ]
  },
  {
   "cell_type": "markdown",
   "metadata": {},
   "source": [
    "From a given year, we adjust that price up to 2018 dollars by multiplying by the inflation of the average salary for each year up to 2018."
   ]
  },
  {
   "cell_type": "code",
   "execution_count": 54,
   "metadata": {},
   "outputs": [],
   "source": [
    "years = range(1985,2019,1)\n",
    "for i in range(len(years)):\n",
    "    year = years[i]\n",
    "    mask = df['yearID']==year\n",
    "    for adjustment in inflation[i:]:\n",
    "        df.loc[mask, 'salary'] = df[mask]['salary'] * (adjustment)"
   ]
  },
  {
   "cell_type": "markdown",
   "metadata": {},
   "source": [
    "Remove outliers. Numbers are given by 1.5x below Q1 and 1.5x above Q3 from full data set."
   ]
  },
  {
   "cell_type": "code",
   "execution_count": 55,
   "metadata": {},
   "outputs": [],
   "source": [
    "removed_outliers = (df.salary < np.percentile(df.salary, 75)*1.5) & (df.salary > np.percentile(df.salary, 25)/1.5)\n",
    "df = df[removed_outliers]"
   ]
  },
  {
   "cell_type": "markdown",
   "metadata": {},
   "source": [
    "Some entries in the dataframe are effectively empty, since they provide no useful information we throw them out."
   ]
  },
  {
   "cell_type": "code",
   "execution_count": 56,
   "metadata": {},
   "outputs": [],
   "source": [
    "mask = (df.G < 3) & (df.AB < 3) & (df.R < 3) & (df.H < 3) & (df.B2 < 3) & (df.B3 < 3) & (df.HR < 3) & \\\n",
    "       (df.RBI < 3) & (df.SB < 3) & (df.CS < 3) & (df.BB < 3) & (df.SO < 3) & (df.IBB < 3) & (df.HBP < 3) & \\\n",
    "       (df.SH < 3) & (df.SF < 3) & (df.GIDP < 3)\n",
    "df = df.drop(df[mask].index)"
   ]
  },
  {
   "cell_type": "markdown",
   "metadata": {},
   "source": [
    "Drop the last of the unused columns, and split into targets and samples."
   ]
  },
  {
   "cell_type": "code",
   "execution_count": 57,
   "metadata": {},
   "outputs": [],
   "source": [
    "df = df.drop(['num', 'playerID', 'yearID', 'stint', 'teamID', 'IgID'], axis=1)\n",
    "\n",
    "labels = list(df.columns)\n",
    "\n",
    "y = df['salary']\n",
    "\n",
    "df = df.drop('salary', axis=1)\n",
    "\n",
    "X = np.array(df)"
   ]
  },
  {
   "cell_type": "markdown",
   "metadata": {},
   "source": [
    " Additionally, we log transform the target data since it has a strong postive skewness."
   ]
  },
  {
   "cell_type": "code",
   "execution_count": 58,
   "metadata": {},
   "outputs": [
    {
     "data": {
      "image/png": "[encoded data removed]",
      "text/plain": [
       "<Figure size 432x288 with 1 Axes>"
      ]
     },
     "metadata": {
      "needs_background": "light"
     },
     "output_type": "display_data"
    },
    {
     "data": {
      "image/png": "[encoded data removed]",
      "text/plain": [
       "<Figure size 432x288 with 1 Axes>"
      ]
     },
     "metadata": {
      "needs_background": "light"
     },
     "output_type": "display_data"
    }
   ],
   "source": [
    "plt.hist(y)\n",
    "plt.ylabel('Count')\n",
    "plt.ylabel('Salary')\n",
    "plt.show()\n",
    "\n",
    "y=np.log(y)\n",
    "plt.hist(y)\n",
    "plt.ylabel('Count')\n",
    "plt.xlabel('log(Salary)')\n",
    "plt.show()"
   ]
  },
  {
   "cell_type": "markdown",
   "metadata": {},
   "source": [
    "Split the data into testing and training sets."
   ]
  },
  {
   "cell_type": "code",
   "execution_count": 59,
   "metadata": {},
   "outputs": [],
   "source": [
    "X_train, X_test, y_train, y_test = train_test_split(X, y, test_size=0.20)"
   ]
  },
  {
   "cell_type": "markdown",
   "metadata": {},
   "source": [
    "Initialize the random forest regressor, with some experimentally determined values. Fit the training data."
   ]
  },
  {
   "cell_type": "code",
   "execution_count": 60,
   "metadata": {},
   "outputs": [
    {
     "data": {
      "text/plain": [
       "RandomForestRegressor(bootstrap=True, criterion='mse', max_depth=40,\n",
       "           max_features='auto', max_leaf_nodes=None,\n",
       "           min_impurity_decrease=0.0, min_impurity_split=None,\n",
       "           min_samples_leaf=5, min_samples_split=8,\n",
       "           min_weight_fraction_leaf=0.0, n_estimators=650, n_jobs=None,\n",
       "           oob_score=False, random_state=None, verbose=0, warm_start=False)"
      ]
     },
     "execution_count": 60,
     "metadata": {},
     "output_type": "execute_result"
    }
   ],
   "source": [
    "rf = RandomForestRegressor(bootstrap=True, min_samples_leaf=5, n_estimators=650, \n",
    "                           max_features='auto', min_samples_split=8, max_depth=40)\n",
    "rf.fit(X_train, y_train)"
   ]
  },
  {
   "cell_type": "markdown",
   "metadata": {},
   "source": [
    "Make predictions on the testing set."
   ]
  },
  {
   "cell_type": "code",
   "execution_count": 61,
   "metadata": {},
   "outputs": [],
   "source": [
    "predictions = rf.predict(X_test)"
   ]
  },
  {
   "cell_type": "markdown",
   "metadata": {},
   "source": [
    "Output mean square error between actual and predicted, and plot them."
   ]
  },
  {
   "cell_type": "code",
   "execution_count": 62,
   "metadata": {},
   "outputs": [
    {
     "name": "stdout",
     "output_type": "stream",
     "text": [
      "0.8522130960566183\n"
     ]
    },
    {
     "data": {
      "image/png": "[encoded data removed]",
      "text/plain": [
       "<Figure size 432x288 with 1 Axes>"
      ]
     },
     "metadata": {
      "needs_background": "light"
     },
     "output_type": "display_data"
    }
   ],
   "source": [
    "print mean_squared_error(y_test, predictions)\n",
    "plt.plot(predictions, y_test, 'o')\n",
    "plt.xlabel('predictions')\n",
    "plt.ylabel('y_test')\n",
    "plt.show()"
   ]
  },
  {
   "cell_type": "code",
   "execution_count": null,
   "metadata": {},
   "outputs": [],
   "source": []
  }
 ],
 "metadata": {
  "kernelspec": {
   "display_name": "Python 2",
   "language": "python",
   "name": "python2"
  },
  "language_info": {
   "codemirror_mode": {
    "name": "ipython",
    "version": 2
   },
   "file_extension": ".py",
   "mimetype": "text/x-python",
   "name": "python",
   "nbconvert_exporter": "python",
   "pygments_lexer": "ipython2",
   "version": "2.7.15"
  }
 },
 "nbformat": 4,
 "nbformat_minor": 2
}
